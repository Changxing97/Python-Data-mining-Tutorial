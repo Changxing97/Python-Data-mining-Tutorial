{
 "cells": [
  {
   "cell_type": "markdown",
   "metadata": {},
   "source": [
    "## 原理方法"
   ]
  },
  {
   "cell_type": "markdown",
   "metadata": {},
   "source": [
    "定义测试数据"
   ]
  },
  {
   "cell_type": "code",
   "execution_count": 26,
   "metadata": {},
   "outputs": [],
   "source": [
    "data_test=[1,2,3,4,5,6,7,8,9,10,11,12]"
   ]
  },
  {
   "cell_type": "markdown",
   "metadata": {},
   "source": [
    "计算四分位数方法一（QUARTILE.EXC方法）"
   ]
  },
  {
   "cell_type": "code",
   "execution_count": 43,
   "metadata": {},
   "outputs": [],
   "source": [
    "import math\n",
    "#其中data为数据组，n为第几个四分位数\n",
    "def quantile_exc(data, n):\n",
    "    if n<1 or n>3:\n",
    "        return false\n",
    "    data.sort()\n",
    "    position = (len(data) + 1)*n/4\n",
    "    pos_integer = int(math.modf(position)[1])\n",
    "    pos_decimal = position - pos_integer\n",
    "    quartile = data[pos_integer - 1] + (data[pos_integer] - data[pos_integer - 1])*pos_decimal\n",
    "    return quartile"
   ]
  },
  {
   "cell_type": "code",
   "execution_count": 44,
   "metadata": {},
   "outputs": [
    {
     "name": "stdout",
     "output_type": "stream",
     "text": [
      "第1四分位数 3.25\n",
      "第2四分位数 6.5\n",
      "第3四分位数 9.75\n"
     ]
    }
   ],
   "source": [
    "print(\"第1四分位数\",quantile_exc(data_test, 1))\n",
    "print(\"第2四分位数\",quantile_exc(data_test, 2))\n",
    "print(\"第3四分位数\",quantile_exc(data_test, 3))"
   ]
  },
  {
   "cell_type": "markdown",
   "metadata": {},
   "source": [
    "计算四分位数方法二（QUARTILE.INC方法）"
   ]
  },
  {
   "cell_type": "code",
   "execution_count": 35,
   "metadata": {},
   "outputs": [],
   "source": [
    "import math\n",
    "#其中data为数据组，n为第几个四分位数\n",
    "def quantile_inc(data, n):\n",
    "    if n<1 or n>3:\n",
    "        return false\n",
    "    data.sort()\n",
    "    position = 1 + (len(data)-1)*n/4\n",
    "    pos_integer = int(math.modf(position)[1])\n",
    "    pos_decimal = position - pos_integer\n",
    "    quartile = data[pos_integer - 1] + (data[pos_integer] - data[pos_integer - 1])*pos_decimal\n",
    "    return quartile"
   ]
  },
  {
   "cell_type": "code",
   "execution_count": 36,
   "metadata": {},
   "outputs": [
    {
     "name": "stdout",
     "output_type": "stream",
     "text": [
      "第1四分位数 3.75\n",
      "第2四分位数 6.5\n",
      "第3四分位数 9.25\n"
     ]
    }
   ],
   "source": [
    "print(\"第1四分位数\",quantile_inc(data_test, 1))\n",
    "print(\"第2四分位数\",quantile_inc(data_test, 2))\n",
    "print(\"第3四分位数\",quantile_inc(data_test, 3))"
   ]
  },
  {
   "cell_type": "markdown",
   "metadata": {},
   "source": [
    "调用numpy的percentile方法计算四分位数"
   ]
  },
  {
   "cell_type": "code",
   "execution_count": 53,
   "metadata": {},
   "outputs": [
    {
     "name": "stdout",
     "output_type": "stream",
     "text": [
      "第1四分位数 3.75\n",
      "第2四分位数 6.5\n",
      "第3四分位数 9.25\n"
     ]
    }
   ],
   "source": [
    "import numpy\n",
    "print('第1四分位数',numpy.percentile(data_test, (25)))\n",
    "print('第2四分位数',numpy.percentile(data_test, (50)))\n",
    "print('第3四分位数',numpy.percentile(data_test, (75)))"
   ]
  }
 ],
 "metadata": {
  "kernelspec": {
   "display_name": "Python 3",
   "language": "python",
   "name": "python3"
  },
  "language_info": {
   "codemirror_mode": {
    "name": "ipython",
    "version": 3
   },
   "file_extension": ".py",
   "mimetype": "text/x-python",
   "name": "python",
   "nbconvert_exporter": "python",
   "pygments_lexer": "ipython3",
   "version": "3.7.1"
  }
 },
 "nbformat": 4,
 "nbformat_minor": 2
}
