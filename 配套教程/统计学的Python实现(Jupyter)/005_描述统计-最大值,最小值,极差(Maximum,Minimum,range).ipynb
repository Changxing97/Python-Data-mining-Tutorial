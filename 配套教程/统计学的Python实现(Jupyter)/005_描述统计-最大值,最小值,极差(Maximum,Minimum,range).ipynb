{
 "cells": [
  {
   "cell_type": "code",
   "execution_count": 4,
   "metadata": {},
   "outputs": [],
   "source": [
    "data=[1,3,2,6,7,9,3,2,4]"
   ]
  },
  {
   "cell_type": "code",
   "execution_count": 5,
   "metadata": {},
   "outputs": [
    {
     "name": "stdout",
     "output_type": "stream",
     "text": [
      "最大值= 9\n"
     ]
    }
   ],
   "source": [
    "# 获取数组最大值\n",
    "data_max=max(data)\n",
    "print('最大值=',data_max)"
   ]
  },
  {
   "cell_type": "code",
   "execution_count": 6,
   "metadata": {},
   "outputs": [
    {
     "name": "stdout",
     "output_type": "stream",
     "text": [
      "最小值= 1\n"
     ]
    }
   ],
   "source": [
    "#获取数组最小值\n",
    "data_min=min(data)\n",
    "print('最小值=',data_min)"
   ]
  },
  {
   "cell_type": "code",
   "execution_count": 7,
   "metadata": {},
   "outputs": [
    {
     "name": "stdout",
     "output_type": "stream",
     "text": [
      "极差= 8\n"
     ]
    }
   ],
   "source": [
    "#获取数组极差\n",
    "range=max(data)-min(data)\n",
    "print('极差=',range)"
   ]
  }
 ],
 "metadata": {
  "kernelspec": {
   "display_name": "Python 3",
   "language": "python",
   "name": "python3"
  },
  "language_info": {
   "codemirror_mode": {
    "name": "ipython",
    "version": 3
   },
   "file_extension": ".py",
   "mimetype": "text/x-python",
   "name": "python",
   "nbconvert_exporter": "python",
   "pygments_lexer": "ipython3",
   "version": "3.6.6"
  }
 },
 "nbformat": 4,
 "nbformat_minor": 2
}
