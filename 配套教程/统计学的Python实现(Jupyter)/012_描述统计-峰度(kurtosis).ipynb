{
 "cells": [
  {
   "cell_type": "markdown",
   "metadata": {},
   "source": [
    "定义测试数据"
   ]
  },
  {
   "cell_type": "code",
   "execution_count": 6,
   "metadata": {},
   "outputs": [],
   "source": [
    "data_test=[1,1,1,1,1,2,2,2,2,3,3,3,4,4,5]"
   ]
  },
  {
   "cell_type": "markdown",
   "metadata": {},
   "source": [
    "计算峰度"
   ]
  },
  {
   "cell_type": "code",
   "execution_count": 19,
   "metadata": {},
   "outputs": [],
   "source": [
    "import math\n",
    "import numpy\n",
    "def peakedness(data):\n",
    "    n = len(data) #样本个数\n",
    "    average=numpy.mean(data) #计算平均值\n",
    "    k1=n*(n+1)*(n-1)/(n-2)/(n-3)\n",
    "    k2=3*(n-1)**2/(n-2)/(n-3)\n",
    "    m2=0;\n",
    "    m4=0\n",
    "    for i in data:\n",
    "        m4+=(i-average)**4\n",
    "        m2+=(i-average)**2\n",
    "    peakedness=k1*m4/m2**2-k2\n",
    "    return peakedness"
   ]
  },
  {
   "cell_type": "code",
   "execution_count": 20,
   "metadata": {},
   "outputs": [
    {
     "name": "stdout",
     "output_type": "stream",
     "text": [
      "peakedness = -0.5076923076923086\n"
     ]
    }
   ],
   "source": [
    "print('peakedness =',peakedness(data_test))"
   ]
  },
  {
   "cell_type": "code",
   "execution_count": null,
   "metadata": {},
   "outputs": [],
   "source": []
  }
 ],
 "metadata": {
  "kernelspec": {
   "display_name": "Python 3",
   "language": "python",
   "name": "python3"
  },
  "language_info": {
   "codemirror_mode": {
    "name": "ipython",
    "version": 3
   },
   "file_extension": ".py",
   "mimetype": "text/x-python",
   "name": "python",
   "nbconvert_exporter": "python",
   "pygments_lexer": "ipython3",
   "version": "3.6.6"
  }
 },
 "nbformat": 4,
 "nbformat_minor": 2
}
