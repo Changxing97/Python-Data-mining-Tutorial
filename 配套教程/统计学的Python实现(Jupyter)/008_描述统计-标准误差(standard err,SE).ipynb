{
 "cells": [
  {
   "cell_type": "markdown",
   "metadata": {},
   "source": [
    "## 原理方法"
   ]
  },
  {
   "cell_type": "markdown",
   "metadata": {},
   "source": [
    "定义测试数据"
   ]
  },
  {
   "cell_type": "code",
   "execution_count": 8,
   "metadata": {},
   "outputs": [],
   "source": [
    "data_test=[1,1,2,2,3,4,4,5,5]"
   ]
  },
  {
   "cell_type": "markdown",
   "metadata": {},
   "source": [
    "计算总体均值的标准误差"
   ]
  },
  {
   "cell_type": "code",
   "execution_count": 9,
   "metadata": {},
   "outputs": [
    {
     "name": "stdout",
     "output_type": "stream",
     "text": [
      "0.49690399499995325\n"
     ]
    }
   ],
   "source": [
    "import numpy\n",
    "import math\n",
    "SD_P=numpy.std(data_test,ddof=0)\n",
    "n=len(data_test)\n",
    "print(SD_P/math.sqrt(n))"
   ]
  },
  {
   "cell_type": "markdown",
   "metadata": {},
   "source": [
    "估计总体均值的标准误差"
   ]
  },
  {
   "cell_type": "code",
   "execution_count": 10,
   "metadata": {},
   "outputs": [
    {
     "name": "stdout",
     "output_type": "stream",
     "text": [
      "0.5270462766947299\n"
     ]
    }
   ],
   "source": [
    "import numpy\n",
    "import math\n",
    "SD_S=numpy.std(data_test,ddof=1)\n",
    "n=len(data_test)\n",
    "print(SD_S/math.sqrt(n))"
   ]
  },
  {
   "cell_type": "markdown",
   "metadata": {},
   "source": [
    "计算样本均值的标准误差"
   ]
  },
  {
   "cell_type": "code",
   "execution_count": 11,
   "metadata": {},
   "outputs": [
    {
     "name": "stdout",
     "output_type": "stream",
     "text": [
      "0.5270462766947299\n"
     ]
    }
   ],
   "source": [
    "import numpy\n",
    "import math\n",
    "SD_S=numpy.std(data_test,ddof=1)\n",
    "n=len(data_test)\n",
    "print(SD_S/math.sqrt(n))"
   ]
  }
 ],
 "metadata": {
  "kernelspec": {
   "display_name": "Python 3",
   "language": "python",
   "name": "python3"
  },
  "language_info": {
   "codemirror_mode": {
    "name": "ipython",
    "version": 3
   },
   "file_extension": ".py",
   "mimetype": "text/x-python",
   "name": "python",
   "nbconvert_exporter": "python",
   "pygments_lexer": "ipython3",
   "version": "3.6.6"
  }
 },
 "nbformat": 4,
 "nbformat_minor": 2
}
